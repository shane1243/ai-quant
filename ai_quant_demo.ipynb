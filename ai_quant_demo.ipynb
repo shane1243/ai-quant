{
 "cells": [
  {
   "cell_type": "markdown",
   "id": "000cbbfd",
   "metadata": {},
   "source": [
    "# 📈 AI + Quant 示例笔记本\n",
    "本笔记本展示了一个简单的量化分析流程，包括：\n",
    "1. 下载股票数据\n",
    "2. 可视化价格\n",
    "3. 构建简单线性回归模型预测未来价格"
   ]
  },
  {
   "cell_type": "code",
   "execution_count": null,
   "id": "5ca5027a",
   "metadata": {},
   "outputs": [],
   "source": [
    "import yfinance as yf\n",
    "import pandas as pd\n",
    "import numpy as np\n",
    "import matplotlib.pyplot as plt\n",
    "from sklearn.linear_model import LinearRegression\n",
    "\n",
    "# 下载数据（Apple 股票）\n",
    "data = yf.download(\"AAPL\", start=\"2020-01-01\", end=\"2023-01-01\")\n",
    "data = data[['Close']]\n",
    "data.head()\n"
   ]
  },
  {
   "cell_type": "code",
   "execution_count": null,
   "id": "2d18fd39",
   "metadata": {},
   "outputs": [],
   "source": [
    "# 计算收益率\n",
    "data['Returns'] = data['Close'].pct_change()\n",
    "data['Returns'].plot(title=\"Daily Returns\", figsize=(10, 4))\n",
    "plt.grid(True)\n",
    "plt.show()\n"
   ]
  },
  {
   "cell_type": "code",
   "execution_count": null,
   "id": "753ff5e4",
   "metadata": {},
   "outputs": [],
   "source": [
    "# 构造特征和标签：用前一天的价格预测今天\n",
    "data.dropna(inplace=True)\n",
    "X = data['Close'].shift(1).dropna().values.reshape(-1, 1)\n",
    "y = data['Close'][1:].values.reshape(-1, 1)\n",
    "\n",
    "# 训练线性回归模型\n",
    "model = LinearRegression()\n",
    "model.fit(X, y)\n",
    "\n",
    "# 打印回归系数\n",
    "print(\"模型拟合: y = %.4f * x + %.4f\" % (model.coef_[0][0], model.intercept_[0]))\n"
   ]
  },
  {
   "cell_type": "code",
   "execution_count": null,
   "id": "12f8363d",
   "metadata": {},
   "outputs": [],
   "source": [
    "# 可视化拟合结果\n",
    "plt.figure(figsize=(10, 5))\n",
    "plt.scatter(X, y, label='True Price', alpha=0.3)\n",
    "plt.plot(X, model.predict(X), color='red', label='Predicted Price')\n",
    "plt.xlabel(\"Previous Day Price\")\n",
    "plt.ylabel(\"Today Price\")\n",
    "plt.title(\"Linear Regression on AAPL Prices\")\n",
    "plt.legend()\n",
    "plt.grid(True)\n",
    "plt.show()\n"
   ]
  }
 ],
 "metadata": {},
 "nbformat": 4,
 "nbformat_minor": 5
}